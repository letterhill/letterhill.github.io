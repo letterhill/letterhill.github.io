{
 "cells": [
  {
   "cell_type": "markdown",
   "id": "abac6958-09d5-4ab1-a449-8c6a1b7ddbc0",
   "metadata": {},
   "source": [
    "# 랜덤 포레스트의 개요\n",
    "* 배깅의 대표적인 알고리즘\n",
    "* 개별 알고리즘은 결정 트리임.\n",
    "## RandomForestClassifier 클래스\n",
    "* 사이킷런의 랜덤 포레스트 클래스\n",
    "* n_estimator 파라미터로 subset 수 부여"
   ]
  },
  {
   "cell_type": "code",
   "execution_count": 2,
   "id": "5efafb06-cf74-49d1-a5aa-808b2bb3ebea",
   "metadata": {},
   "outputs": [],
   "source": [
    "def get_new_feature_name_df(old_feature_name_df):\n",
    "    feature_dup_df = pd.DataFrame(\n",
    "        data=old_feature_name_df.groupby('column_name').cumcount(),\n",
    "        columns=['dup_cnt']\n",
    "    ).reset_index()\n",
    "\n",
    "    new_feature_name_df = pd.merge(\n",
    "        old_feature_name_df.reset_index(), feature_dup_df, how='outer'\n",
    "    )\n",
    "\n",
    "    # iloc 사용해서 FutureWarning 방지\n",
    "    new_feature_name_df['column_name'] = new_feature_name_df[['column_name', 'dup_cnt']].apply(\n",
    "        lambda x: x.iloc[0] + '_' + str(x.iloc[1]) if x.iloc[1] > 0 else x.iloc[0],\n",
    "        axis=1\n",
    "    )\n",
    "\n",
    "    new_feature_name_df = new_feature_name_df.drop(['index'], axis=1)\n",
    "    return new_feature_name_df"
   ]
  },
  {
   "cell_type": "code",
   "execution_count": 4,
   "id": "b76833b8-67ed-46db-a9cd-58e5b8786cec",
   "metadata": {},
   "outputs": [],
   "source": [
    "import pandas as pd\n",
    "\n",
    "def get_human_dataset( ):\n",
    "    \n",
    "    # 각 데이터 파일들은 공백으로 분리되어 있으므로 read_csv에서 공백 문자를 sep으로 할당.\n",
    "    feature_name_df = pd.read_csv(r\"C:\\Users\\HOME\\Desktop\\human_activity\\features.txt\",sep=r'\\s+',\n",
    "                        header=None,names=['column_index','column_name'])\n",
    "    \n",
    "    # 중복된 피처명을 수정하는 get_new_feature_name_df()를 이용, 신규 피처명 DataFrame생성. \n",
    "    new_feature_name_df = get_new_feature_name_df(feature_name_df)\n",
    "    \n",
    "    # DataFrame에 피처명을 컬럼으로 부여하기 위해 리스트 객체로 다시 변환\n",
    "    feature_name = new_feature_name_df.iloc[:, 1].values.tolist()\n",
    "    \n",
    "    # 학습 피처 데이터 셋과 테스트 피처 데이터을 DataFrame으로 로딩. 컬럼명은 feature_name 적용\n",
    "    X_train = pd.read_csv(r\"C:\\Users\\HOME\\Desktop\\human_activity\\train\\X_train.txt\",sep=r'\\s+', names=feature_name )\n",
    "    X_test = pd.read_csv(r\"C:\\Users\\HOME\\Desktop\\human_activity\\test\\X_test.txt\",sep=r'\\s+', names=feature_name)\n",
    "    \n",
    "    # 학습 레이블과 테스트 레이블 데이터을 DataFrame으로 로딩하고 컬럼명은 action으로 부여\n",
    "    y_train = pd.read_csv(r\"C:\\Users\\HOME\\Desktop\\human_activity\\train\\y_train.txt\",sep=r'\\s+',header=None,names=['action'])\n",
    "    y_test = pd.read_csv(r\"C:\\Users\\HOME\\Desktop\\human_activity\\test\\y_test.txt\",sep=r'\\s+',header=None,names=['action'])\n",
    "    \n",
    "    # 로드된 학습/테스트용 DataFrame을 모두 반환 \n",
    "    return X_train, X_test, y_train, y_test\n",
    "\n",
    "\n",
    "X_train, X_test, y_train, y_test = get_human_dataset()\n"
   ]
  },
  {
   "cell_type": "code",
   "execution_count": 5,
   "id": "ee6daf12-66d2-4fac-9233-e19482668855",
   "metadata": {},
   "outputs": [
    {
     "name": "stdout",
     "output_type": "stream",
     "text": [
      "랜포 정확도: 0.9237\n"
     ]
    }
   ],
   "source": [
    "from sklearn.ensemble import RandomForestClassifier\n",
    "from sklearn.metrics import accuracy_score\n",
    "import pandas as pd\n",
    "import warnings\n",
    "warnings.filterwarnings('ignore')\n",
    "\n",
    "# 결정 트리에서 사용한 함수를 이용해 학습/테스트용 DF 반환\n",
    "X_train, X_test, y_train, y_test = get_human_dataset()\n",
    "\n",
    "rf_clf = RandomForestClassifier()\n",
    "rf_clf.fit(X_train, y_train)\n",
    "pred = rf_clf.predict(X_test)\n",
    "accuracy = accuracy_score(y_test, pred)\n",
    "print('랜포 정확도: {0:.4f}'.format(accuracy))"
   ]
  },
  {
   "cell_type": "markdown",
   "id": "04bbbe5a-ca02-46e3-93c6-5ed90119f431",
   "metadata": {},
   "source": [
    "# 랜덤 포레스트 하이퍼 파라미터 및 튜닝\n",
    "* n_estimator: 결정 트리의 개수\n",
    "* max_features, ..."
   ]
  },
  {
   "cell_type": "code",
   "execution_count": null,
   "id": "5d2f64ab-4d1b-40be-88dc-479c3e1419cd",
   "metadata": {},
   "outputs": [],
   "source": [
    "from sklearn.model_selection import GridSearchCV\n",
    "\n",
    "params = {\n",
    "    'max_depth': [8, 16, 24],\n",
    "    'min_samples_leaf': [1, 6, 12],\n",
    "    'min_samples_split': [2, 8, 16]\n",
    "}\n",
    "# RF 객체 생성 후 그리드서치 수행\n",
    "rf_clf = RandomForestClassifier(n_estimators=100, random_state=0, n_jobs=-1)\n",
    "grid_cv = GridSearchCV(rf_clf, param_grid=params, cv=2, n_jobs=-1)\n",
    "grid_cv.fit(X_train, y_train)\n",
    "\n",
    "print(\"최적 파라미터: \", grid_cv.best_params_)\n",
    "print('최고 예측 정확도: {0:.4f}'.format(grid_cv.best_score_))"
   ]
  },
  {
   "cell_type": "markdown",
   "id": "d4d3155c-a7a7-4335-9529-1f629d156401",
   "metadata": {},
   "source": [
    "# GBM의 개요\n",
    "## 부스팅 알고리즘\n",
    "* weak learner를 순차적 학습/예측하면서 잘못 에측한 데이터에 가중치를 부여하여 오류를 개선해나가며 학습하는 방식\n",
    "* ex) AdaBoost, 그래디언트 부스트"
   ]
  },
  {
   "cell_type": "code",
   "execution_count": null,
   "id": "fd3f0bf3-c376-4430-90e1-fd25564a6928",
   "metadata": {},
   "outputs": [],
   "source": [
    "from sklearn.ensemble import GradientBoostingClassifier\n",
    "import time\n",
    "import warnings\n",
    "warnings.filterwarnings('ignore')\n",
    "\n",
    "X_train, X_test, y_train, y_test = get_human_dataset()\n",
    "\n",
    "# GBM 수행 시간 측정을 위함. 시작 시간 설정.\n",
    "start_time = time.time()\n",
    "\n",
    "gb_clf = GradientBoostingClassifier(random_state=0)\n",
    "gb_clf.fit(X_train, y_train)\n",
    "gb_pred = gb_clf.predict(y_test, gb_pred)\n",
    "\n",
    "print('GBM 정확도: {0:.4f}'.format(gb_accuracy))\n",
    "print('GBM 수행 시간: {0:.1f}초'.format(time.time()-start_time))"
   ]
  },
  {
   "cell_type": "markdown",
   "id": "8f18eca4-421d-4dd8-b921-3c2ea1240054",
   "metadata": {},
   "source": [
    "# XGBoost"
   ]
  },
  {
   "cell_type": "markdown",
   "id": "f57bef75-bde9-4885-bece-d538b9cf2cfc",
   "metadata": {},
   "source": [
    "## XGBoost 개요\n",
    "* GBM의 단점인 느린 수행 시간 및 과적합 규제 부재 등의 문제를 해결함.\n",
    "* 파이썬 패키지명: xgboost\\"
   ]
  },
  {
   "cell_type": "code",
   "execution_count": null,
   "id": "696714ed-4f56-43ad-a586-b87ccb278411",
   "metadata": {},
   "outputs": [],
   "source": []
  },
  {
   "cell_type": "code",
   "execution_count": null,
   "id": "6f397882-400d-4403-8ed7-e382e81c9dee",
   "metadata": {},
   "outputs": [],
   "source": []
  }
 ],
 "metadata": {
  "kernelspec": {
   "display_name": "Python 3 (ipykernel)",
   "language": "python",
   "name": "python3"
  },
  "language_info": {
   "codemirror_mode": {
    "name": "ipython",
    "version": 3
   },
   "file_extension": ".py",
   "mimetype": "text/x-python",
   "name": "python",
   "nbconvert_exporter": "python",
   "pygments_lexer": "ipython3",
   "version": "3.12.3"
  }
 },
 "nbformat": 4,
 "nbformat_minor": 5
}
